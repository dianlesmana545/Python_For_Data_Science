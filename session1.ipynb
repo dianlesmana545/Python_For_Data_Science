{
 "cells": [
  {
   "cell_type": "code",
   "execution_count": 2,
   "id": "98400563",
   "metadata": {},
   "outputs": [
    {
     "name": "stdout",
     "output_type": "stream",
     "text": [
      "diandian\n",
      "1.0\n"
     ]
    }
   ],
   "source": [
    "hello=\"dian\"\n",
    "float=1.0\n",
    "print(hello*2)\n",
    "print(float)"
   ]
  },
  {
   "cell_type": "code",
   "execution_count": 3,
   "id": "65651ae7",
   "metadata": {},
   "outputs": [
    {
     "name": "stdout",
     "output_type": "stream",
     "text": [
      "Umur saya =  21\n"
     ]
    }
   ],
   "source": [
    "umur=21\n",
    "print(\"Umur saya = \",umur)"
   ]
  },
  {
   "cell_type": "code",
   "execution_count": 4,
   "id": "1dfe265b",
   "metadata": {},
   "outputs": [
    {
     "data": {
      "text/plain": [
       "12"
      ]
     },
     "execution_count": 4,
     "metadata": {},
     "output_type": "execute_result"
    }
   ],
   "source": [
    "aa=12\n",
    "aa"
   ]
  },
  {
   "cell_type": "code",
   "execution_count": 5,
   "id": "8398b96d",
   "metadata": {},
   "outputs": [
    {
     "name": "stdout",
     "output_type": "stream",
     "text": [
      "21\n",
      "25937424601\n"
     ]
    }
   ],
   "source": [
    "a=11\n",
    "b=10\n",
    "print(a+b)\n",
    "print(a**b)"
   ]
  },
  {
   "cell_type": "code",
   "execution_count": 6,
   "id": "4316d906",
   "metadata": {},
   "outputs": [
    {
     "name": "stdout",
     "output_type": "stream",
     "text": [
      "False\n"
     ]
    }
   ],
   "source": [
    "print(a==b)"
   ]
  },
  {
   "cell_type": "code",
   "execution_count": 7,
   "id": "5d9da427",
   "metadata": {},
   "outputs": [],
   "source": [
    "myList=[1,[2], [3,4]]\n"
   ]
  },
  {
   "cell_type": "code",
   "execution_count": null,
   "id": "3894730d",
   "metadata": {},
   "outputs": [],
   "source": []
  },
  {
   "cell_type": "code",
   "execution_count": 14,
   "id": "89ece0a1",
   "metadata": {},
   "outputs": [
    {
     "name": "stdout",
     "output_type": "stream",
     "text": [
      "[5, 5, 6, 7]\n"
     ]
    }
   ],
   "source": [
    "list=[7,6,5,5]\n",
    "list.sort()\n",
    "print(list)"
   ]
  },
  {
   "cell_type": "code",
   "execution_count": 8,
   "id": "1bad6548",
   "metadata": {},
   "outputs": [
    {
     "name": "stdout",
     "output_type": "stream",
     "text": [
      "Dian\n",
      "dian\n",
      "DIAN\n"
     ]
    }
   ],
   "source": [
    "nama=\"dian\"\n",
    "print(nama.capitalize())\n",
    "print(nama.lower())\n",
    "print(nama.upper())"
   ]
  },
  {
   "cell_type": "code",
   "execution_count": 10,
   "id": "096a5bf1",
   "metadata": {},
   "outputs": [
    {
     "data": {
      "text/plain": [
       "[1, 2, 3, 4, 5]"
      ]
     },
     "execution_count": 10,
     "metadata": {},
     "output_type": "execute_result"
    }
   ],
   "source": [
    "list=[1,2,3,4,5]\n",
    "list"
   ]
  },
  {
   "cell_type": "code",
   "execution_count": 12,
   "id": "cdc874d8",
   "metadata": {},
   "outputs": [
    {
     "name": "stdout",
     "output_type": "stream",
     "text": [
      "2\n",
      "5\n"
     ]
    }
   ],
   "source": [
    "print(list[1])\n",
    "print(list[-1])"
   ]
  },
  {
   "cell_type": "code",
   "execution_count": 20,
   "id": "d47fd189",
   "metadata": {},
   "outputs": [],
   "source": [
    "list2=[2,3,4,5]\n",
    "list2."
   ]
  },
  {
   "cell_type": "code",
   "execution_count": 15,
   "id": "256cd2e4",
   "metadata": {},
   "outputs": [
    {
     "data": {
      "text/plain": [
       "[7, 6, 5]"
      ]
     },
     "execution_count": 15,
     "metadata": {},
     "output_type": "execute_result"
    }
   ],
   "source": [
    "myList3=[9,8,7,6,5,4]\n",
    "myList3\n",
    "myList3[2:5]"
   ]
  },
  {
   "cell_type": "code",
   "execution_count": 23,
   "id": "470cfed2",
   "metadata": {},
   "outputs": [
    {
     "data": {
      "text/plain": [
       "(1, 2, 3, 4, 5)"
      ]
     },
     "execution_count": 23,
     "metadata": {},
     "output_type": "execute_result"
    }
   ],
   "source": [
    "angka=(1,2,3,4,5)\n",
    "angka"
   ]
  },
  {
   "cell_type": "code",
   "execution_count": 24,
   "id": "ae6ecd98",
   "metadata": {},
   "outputs": [
    {
     "data": {
      "text/plain": [
       "1"
      ]
     },
     "execution_count": 24,
     "metadata": {},
     "output_type": "execute_result"
    }
   ],
   "source": [
    "angka.count(3)"
   ]
  },
  {
   "cell_type": "code",
   "execution_count": 16,
   "id": "776ce09a",
   "metadata": {},
   "outputs": [
    {
     "data": {
      "text/plain": [
       "{'name': 'dian', 'age': '21', 'hobbies': ['Tenis Meja', 'Badminton']}"
      ]
     },
     "execution_count": 16,
     "metadata": {},
     "output_type": "execute_result"
    }
   ],
   "source": [
    "aboutMe={'name':'dian','age':'21','hobbies':['Tenis Meja','Badminton']}\n",
    "aboutMe"
   ]
  },
  {
   "cell_type": "code",
   "execution_count": 19,
   "id": "3ee1b7ad",
   "metadata": {},
   "outputs": [
    {
     "name": "stdout",
     "output_type": "stream",
     "text": [
      "Tenis Meja\n"
     ]
    }
   ],
   "source": [
    "print(aboutMe['hobbies'][0])"
   ]
  },
  {
   "cell_type": "code",
   "execution_count": 20,
   "id": "a54ceaed",
   "metadata": {},
   "outputs": [
    {
     "name": "stdout",
     "output_type": "stream",
     "text": [
      "dict_items([('name', 'dian'), ('age', '21'), ('hobbies', ['Tenis Meja', 'Badminton'])])\n",
      "dict_keys(['name', 'age', 'hobbies'])\n",
      "dict_values(['dian', '21', ['Tenis Meja', 'Badminton']])\n"
     ]
    }
   ],
   "source": [
    "print(aboutMe.items())\n",
    "print(aboutMe.keys())\n",
    "print(aboutMe.values())"
   ]
  },
  {
   "cell_type": "code",
   "execution_count": null,
   "id": "166b24de",
   "metadata": {},
   "outputs": [],
   "source": []
  }
 ],
 "metadata": {
  "kernelspec": {
   "display_name": "Python 3",
   "language": "python",
   "name": "python3"
  },
  "language_info": {
   "codemirror_mode": {
    "name": "ipython",
    "version": 3
   },
   "file_extension": ".py",
   "mimetype": "text/x-python",
   "name": "python",
   "nbconvert_exporter": "python",
   "pygments_lexer": "ipython3",
   "version": "3.8.8"
  }
 },
 "nbformat": 4,
 "nbformat_minor": 5
}
