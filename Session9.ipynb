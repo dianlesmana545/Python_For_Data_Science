{
 "cells": [
  {
   "cell_type": "markdown",
   "id": "7d789ead",
   "metadata": {},
   "source": [
    "# deskriptif statistic\n",
    "meringkas, mengatur, mudah difahami, tidak membuat kesimpulan\n",
    "# yang diukur \n",
    "* centar tendency(nilai tengah)\n",
    "    - average/mean\n",
    "    - median\n",
    "    - stdv\n",
    "    - mode/modus\n",
    "* spread(sebaran)\n",
    "    - stdv\n",
    "    - mean deviasion\n",
    "    - varian\n",
    "    - percentil\n",
    "    - quadratil\n",
    "    \n",
    "# Bentuk kurva\n",
    "* Berdasarkan nilai tengah\n",
    "    - positif skew\n",
    "    - simetrical skew\n",
    "    - negative skew\n",
    "* Berdasarkan Sebaran (kurtosis)\n",
    "    - Leprokurtic\n",
    "    - Mesokurtic\n",
    "    - platykurtic\n",
    "    \n",
    "# Korelasi\n"
   ]
  },
  {
   "cell_type": "code",
   "execution_count": 41,
   "id": "6a41a85d",
   "metadata": {},
   "outputs": [],
   "source": [
    "import math\n",
    "import statistics\n",
    "import numpy as np\n",
    "import scipy.stats\n",
    "import pandas as pd"
   ]
  },
  {
   "cell_type": "code",
   "execution_count": 33,
   "id": "be0138b5",
   "metadata": {},
   "outputs": [
    {
     "name": "stdout",
     "output_type": "stream",
     "text": [
      "[8.0, 1, 2, 1.5, 8, 17]\n",
      "[8.0, 1, 2, nan, 4, 28.0]\n"
     ]
    }
   ],
   "source": [
    "x = [8.0, 1,2,1.5,8, 17]\n",
    "x_with_nan=[8.0, 1, 2, math.nan, 4, 28.0]\n",
    "print(x)\n",
    "print(x_with_nan)"
   ]
  },
  {
   "cell_type": "code",
   "execution_count": 44,
   "id": "dcb175ae",
   "metadata": {},
   "outputs": [
    {
     "name": "stdout",
     "output_type": "stream",
     "text": [
      "[ 8.   1.   2.   1.5  8.  17. ]\n",
      "[ 8.  1.  2. nan  4. 28.]\n",
      "0     8.0\n",
      "1     1.0\n",
      "2     2.0\n",
      "3     1.5\n",
      "4     8.0\n",
      "5    17.0\n",
      "dtype: float64\n",
      "0     8.0\n",
      "1     1.0\n",
      "2     2.0\n",
      "3     NaN\n",
      "4     4.0\n",
      "5    28.0\n",
      "dtype: float64\n"
     ]
    }
   ],
   "source": [
    "y, y_with_nan=np.array(x), np.array(x_with_nan)\n",
    "z, z_with_nan=pd.Series(x), pd.Series(x_with_nan)\n",
    "print(y)\n",
    "print(y_with_nan)\n",
    "print(z)\n",
    "print(z_with_nan)"
   ]
  },
  {
   "cell_type": "code",
   "execution_count": 11,
   "id": "a985eef1",
   "metadata": {},
   "outputs": [
    {
     "data": {
      "text/plain": [
       "6.0"
      ]
     },
     "execution_count": 11,
     "metadata": {},
     "output_type": "execute_result"
    }
   ],
   "source": [
    "mean_=sum(y)/len(y)\n",
    "mean2=np.mean(y)\n",
    "mean2\n",
    "mean_"
   ]
  },
  {
   "cell_type": "code",
   "execution_count": 12,
   "id": "f6c4d5ae",
   "metadata": {},
   "outputs": [
    {
     "data": {
      "text/plain": [
       "6.0"
      ]
     },
     "execution_count": 12,
     "metadata": {},
     "output_type": "execute_result"
    }
   ],
   "source": [
    "mean_z=np.mean(z)\n",
    "mean_z"
   ]
  },
  {
   "cell_type": "code",
   "execution_count": 13,
   "id": "79ed2e9b",
   "metadata": {},
   "outputs": [
    {
     "data": {
      "text/plain": [
       "nan"
      ]
     },
     "execution_count": 13,
     "metadata": {},
     "output_type": "execute_result"
    }
   ],
   "source": [
    "mean_nan=np.mean(y_with_nan)\n",
    "mean_nan"
   ]
  },
  {
   "cell_type": "code",
   "execution_count": 15,
   "id": "9053d34d",
   "metadata": {},
   "outputs": [
    {
     "data": {
      "text/plain": [
       "5"
      ]
     },
     "execution_count": 15,
     "metadata": {},
     "output_type": "execute_result"
    }
   ],
   "source": [
    "n=len(y)\n",
    "if n % 2:\n",
    "    median_=sorted(x)[round(0.5*(n-1))]\n",
    "else:\n",
    "    x_ord, index=sorted(x), round(0.5*n)\n",
    "    median_=0.5*(x_ord[index-1]+x_ord[index])\n",
    "    \n",
    "median_"
   ]
  },
  {
   "cell_type": "code",
   "execution_count": 16,
   "id": "378cc2ab",
   "metadata": {},
   "outputs": [
    {
     "data": {
      "text/plain": [
       "5.0"
      ]
     },
     "execution_count": 16,
     "metadata": {},
     "output_type": "execute_result"
    }
   ],
   "source": [
    "median_=np.median(y)\n",
    "median_"
   ]
  },
  {
   "cell_type": "code",
   "execution_count": 18,
   "id": "cfacc86e",
   "metadata": {},
   "outputs": [
    {
     "data": {
      "text/plain": [
       "5.0"
      ]
     },
     "execution_count": 18,
     "metadata": {},
     "output_type": "execute_result"
    }
   ],
   "source": [
    "median_z=np.median(z)\n",
    "median_z"
   ]
  },
  {
   "cell_type": "code",
   "execution_count": 22,
   "id": "e5516863",
   "metadata": {},
   "outputs": [
    {
     "data": {
      "text/plain": [
       "8.0"
      ]
     },
     "execution_count": 22,
     "metadata": {},
     "output_type": "execute_result"
    }
   ],
   "source": [
    "mode_y=statistics.mode(y)\n",
    "mode_y"
   ]
  },
  {
   "cell_type": "code",
   "execution_count": 26,
   "id": "2149197c",
   "metadata": {},
   "outputs": [
    {
     "name": "stdout",
     "output_type": "stream",
     "text": [
      "6.0\n",
      "8.6\n"
     ]
    }
   ],
   "source": [
    "print(y.mean())\n",
    "print(z_with_nan.mean())"
   ]
  },
  {
   "cell_type": "code",
   "execution_count": 34,
   "id": "7916220c",
   "metadata": {},
   "outputs": [
    {
     "data": {
      "text/plain": [
       "7.57142857142857"
      ]
     },
     "execution_count": 34,
     "metadata": {},
     "output_type": "execute_result"
    }
   ],
   "source": [
    "#weighted mean\n",
    "w=[0.7, 0.8, 0.1, 0.2, 0.3, 0.7]\n",
    "wmean=sum(w[i] * x[i] for i in range(len(x)))/sum(w)\n",
    "wmean"
   ]
  },
  {
   "cell_type": "code",
   "execution_count": 46,
   "id": "52d0eaa6",
   "metadata": {},
   "outputs": [
    {
     "data": {
      "text/plain": [
       "7.57142857142857"
      ]
     },
     "execution_count": 46,
     "metadata": {},
     "output_type": "execute_result"
    }
   ],
   "source": [
    "wmeannp=np.average(y, weights = w)\n",
    "wmeannp"
   ]
  },
  {
   "cell_type": "code",
   "execution_count": 47,
   "id": "0b8e089f",
   "metadata": {},
   "outputs": [],
   "source": [
    "# Harmonic mean seorang bapak jalan kaki 5 km pertama dengan kecepatan 2 km/jam dan 5 km kemudian dengan kecepatan 4 km/jam\n",
    "#n / sigma(1/n)\n",
    "harmonicmean=len(x)/sum(1/i for i in x)"
   ]
  },
  {
   "cell_type": "code",
   "execution_count": 48,
   "id": "ef97fa56",
   "metadata": {},
   "outputs": [
    {
     "data": {
      "text/plain": [
       "2.423762376237624"
      ]
     },
     "execution_count": 48,
     "metadata": {},
     "output_type": "execute_result"
    }
   ],
   "source": [
    "harmonicmean"
   ]
  },
  {
   "cell_type": "code",
   "execution_count": 49,
   "id": "e4b4d027",
   "metadata": {},
   "outputs": [
    {
     "data": {
      "text/plain": [
       "2.4237623762376237"
      ]
     },
     "execution_count": 49,
     "metadata": {},
     "output_type": "execute_result"
    }
   ],
   "source": [
    "harmonic_stat=statistics.harmonic_mean(x)\n",
    "harmonic_stat"
   ]
  },
  {
   "cell_type": "code",
   "execution_count": 51,
   "id": "66ebc63f",
   "metadata": {},
   "outputs": [
    {
     "data": {
      "text/plain": [
       "2.423762376237624"
      ]
     },
     "execution_count": 51,
     "metadata": {},
     "output_type": "execute_result"
    }
   ],
   "source": [
    "harmonimean_scipy=scipy.stats.hmean(x)\n",
    "harmonimean_scipy"
   ]
  },
  {
   "cell_type": "code",
   "execution_count": 53,
   "id": "ea4f7f42",
   "metadata": {},
   "outputs": [
    {
     "data": {
      "text/plain": [
       "0.5773502691896257"
      ]
     },
     "execution_count": 53,
     "metadata": {},
     "output_type": "execute_result"
    }
   ],
   "source": [
    "# Geometric mean\n",
    "#laptop 1 harga 20jt lama pakai 7 tahun\n",
    "#laptop 2 harga 12jt lama pakai 4 tahun\n",
    "#laptop 1 geometrik mean nya \n",
    "geoMeanLaptop1 = math.sqrt (1/20 * 7)\n",
    "geoMeanLaptop2=math.sqrt(1/12 * 4)\n",
    "geoMeanLaptop1\n",
    "geoMeanLaptop2"
   ]
  },
  {
   "cell_type": "code",
   "execution_count": 58,
   "id": "398413b0",
   "metadata": {},
   "outputs": [
    {
     "data": {
      "text/plain": [
       "[0.1, 0.2, 0.3, 0.7, 0.7, 0.8]"
      ]
     },
     "execution_count": 58,
     "metadata": {},
     "output_type": "execute_result"
    }
   ],
   "source": [
    "# Median (Nilai tengah)\n",
    "# cara hitung median urutkan dari besar ke kecil, jika n/2=0 median n/2, jika n/2 != 0 median index[(n+1/2)] \n",
    "MedianData=[0.7, 0.8, 0.1, 0.2, 0.3, 0.7]\n",
    "MedianData.sort()\n",
    "MedianData"
   ]
  },
  {
   "cell_type": "code",
   "execution_count": 60,
   "id": "b0fb45ea",
   "metadata": {},
   "outputs": [
    {
     "data": {
      "text/plain": [
       "0.7"
      ]
     },
     "execution_count": 60,
     "metadata": {},
     "output_type": "execute_result"
    }
   ],
   "source": [
    "medianstat=statistics.median_high(MedianData)\n",
    "medianstat"
   ]
  },
  {
   "cell_type": "code",
   "execution_count": 61,
   "id": "34dc52c2",
   "metadata": {},
   "outputs": [
    {
     "data": {
      "text/plain": [
       "0.3"
      ]
     },
     "execution_count": 61,
     "metadata": {},
     "output_type": "execute_result"
    }
   ],
   "source": [
    "medianstat=statistics.median_low(MedianData)\n",
    "medianstat"
   ]
  },
  {
   "cell_type": "code",
   "execution_count": 70,
   "id": "618bf737",
   "metadata": {},
   "outputs": [
    {
     "data": {
      "text/plain": [
       "1"
      ]
     },
     "execution_count": 70,
     "metadata": {},
     "output_type": "execute_result"
    }
   ],
   "source": [
    "#Modus\n",
    "modusData=[1,1,1,3,4,5,6,7,8,9,1]\n",
    "modus=max(((modusData.count(item),item) for item in set(modusData)))[1]\n",
    "modus"
   ]
  },
  {
   "cell_type": "code",
   "execution_count": 71,
   "id": "fdf2af28",
   "metadata": {},
   "outputs": [
    {
     "data": {
      "text/plain": [
       "1"
      ]
     },
     "execution_count": 71,
     "metadata": {},
     "output_type": "execute_result"
    }
   ],
   "source": [
    "modusStat=statistics.mode(modusData)\n",
    "modusStat"
   ]
  },
  {
   "cell_type": "code",
   "execution_count": 78,
   "id": "39ad9184",
   "metadata": {},
   "outputs": [
    {
     "name": "stdout",
     "output_type": "stream",
     "text": [
      "9.163636363636364 9.163636363636362\n"
     ]
    }
   ],
   "source": [
    "# variability\n",
    "variancestate= statistics.variance(modusData)\n",
    "mean_=sum(modusData)/len(modusData)\n",
    "variance=sum((item - mean_)**2 for item in modusData)/ (len(modusData) - 1)\n",
    "print(variancestate, variance)"
   ]
  },
  {
   "cell_type": "code",
   "execution_count": 79,
   "id": "01a83588",
   "metadata": {},
   "outputs": [
    {
     "name": "stdout",
     "output_type": "stream",
     "text": [
      "3.027149874657078 3.027149874657078\n"
     ]
    }
   ],
   "source": [
    "stdv=math.sqrt(variance)\n",
    "stdvState=statistics.stdev(modusData)\n",
    "print(stdv, stdvState)"
   ]
  },
  {
   "cell_type": "code",
   "execution_count": 80,
   "id": "ad992e9f",
   "metadata": {},
   "outputs": [
    {
     "data": {
      "text/plain": [
       "0.24935156205469858"
      ]
     },
     "execution_count": 80,
     "metadata": {},
     "output_type": "execute_result"
    }
   ],
   "source": [
    "# skewnes\n",
    "skewnes=scipy.stats.skew(modusData)\n",
    "skewnes"
   ]
  },
  {
   "cell_type": "code",
   "execution_count": 83,
   "id": "27272386",
   "metadata": {},
   "outputs": [
    {
     "data": {
      "text/plain": [
       "8.0"
      ]
     },
     "execution_count": 83,
     "metadata": {},
     "output_type": "execute_result"
    }
   ],
   "source": [
    "# percentile\n",
    "fivepercentile = np.percentile(modusData, 90)\n",
    "fivepercentile"
   ]
  },
  {
   "cell_type": "code",
   "execution_count": 84,
   "id": "0571e215",
   "metadata": {},
   "outputs": [
    {
     "data": {
      "text/plain": [
       "8"
      ]
     },
     "execution_count": 84,
     "metadata": {},
     "output_type": "execute_result"
    }
   ],
   "source": [
    "# range = max val - min val\n",
    "range_=max(modusData) - min(modusData)\n",
    "range_"
   ]
  },
  {
   "cell_type": "code",
   "execution_count": 85,
   "id": "dd2ada60",
   "metadata": {},
   "outputs": [
    {
     "data": {
      "text/plain": [
       "DescribeResult(nobs=11, minmax=(1, 9), mean=4.181818181818182, variance=9.163636363636364, skewness=0.24935156205469858, kurtosis=-1.3784722222222225)"
      ]
     },
     "execution_count": 85,
     "metadata": {},
     "output_type": "execute_result"
    }
   ],
   "source": [
    "describeData = scipy.stats.describe(modusData)\n",
    "describeData"
   ]
  },
  {
   "cell_type": "code",
   "execution_count": 92,
   "id": "1ef90cf0",
   "metadata": {},
   "outputs": [
    {
     "name": "stdout",
     "output_type": "stream",
     "text": [
      "[0, 1, 2, 3, 4, 5, 6, 7, 8, 9] [0.72492547 0.81651615 0.30801663 0.40910265 0.54691411 0.31612193\n",
      " 0.55350651 0.18875651 0.9655051  0.92999269]\n"
     ]
    }
   ],
   "source": [
    "x=list(range(0, 10))\n",
    "y = np.random.rand(10)\n",
    "print(x, y)"
   ]
  },
  {
   "cell_type": "code",
   "execution_count": 93,
   "id": "3af89311",
   "metadata": {},
   "outputs": [
    {
     "data": {
      "text/plain": [
       "array([[9.16666667, 0.13859147],\n",
       "       [0.13859147, 0.07506308]])"
      ]
     },
     "execution_count": 93,
     "metadata": {},
     "output_type": "execute_result"
    }
   ],
   "source": [
    "covarianxy=np.cov(x,y)\n",
    "covarianxy"
   ]
  },
  {
   "cell_type": "code",
   "execution_count": 95,
   "id": "e4f2e907",
   "metadata": {},
   "outputs": [
    {
     "data": {
      "text/plain": [
       "array([[1, 1, 1],\n",
       "       [1, 2, 4],\n",
       "       [4, 8, 9],\n",
       "       [5, 6, 7]])"
      ]
     },
     "execution_count": 95,
     "metadata": {},
     "output_type": "execute_result"
    }
   ],
   "source": [
    "# 2D Data\n",
    "twod = np.array([\n",
    "    [1,1,1],\n",
    "    [1,2,4],\n",
    "    [4,8,9],\n",
    "    [5,6,7]\n",
    "])\n",
    "twod"
   ]
  },
  {
   "cell_type": "code",
   "execution_count": 96,
   "id": "8ad6e1ef",
   "metadata": {},
   "outputs": [
    {
     "data": {
      "text/plain": [
       "4.083333333333333"
      ]
     },
     "execution_count": 96,
     "metadata": {},
     "output_type": "execute_result"
    }
   ],
   "source": [
    "np.mean(twod)"
   ]
  },
  {
   "cell_type": "code",
   "execution_count": 97,
   "id": "86154441",
   "metadata": {},
   "outputs": [
    {
     "data": {
      "text/plain": [
       "4.083333333333333"
      ]
     },
     "execution_count": 97,
     "metadata": {},
     "output_type": "execute_result"
    }
   ],
   "source": [
    "twod.mean()"
   ]
  },
  {
   "cell_type": "code",
   "execution_count": 99,
   "id": "497d7a5d",
   "metadata": {},
   "outputs": [
    {
     "data": {
      "text/plain": [
       "4.0"
      ]
     },
     "execution_count": 99,
     "metadata": {},
     "output_type": "execute_result"
    }
   ],
   "source": [
    "np.median(twod)"
   ]
  },
  {
   "cell_type": "code",
   "execution_count": 101,
   "id": "7a568d01",
   "metadata": {},
   "outputs": [
    {
     "name": "stdout",
     "output_type": "stream",
     "text": [
      "[2.75 4.25 5.25] [1.         2.33333333 7.         6.        ]\n"
     ]
    }
   ],
   "source": [
    "xmed = np.mean(twod, axis=0)\n",
    "ymed = np.mean(twod, axis=1)\n",
    "print(xmed, ymed)"
   ]
  },
  {
   "cell_type": "code",
   "execution_count": 102,
   "id": "553cee56",
   "metadata": {},
   "outputs": [
    {
     "data": {
      "text/plain": [
       "array([2.11474253, 3.13016916, 3.9842826 ])"
      ]
     },
     "execution_count": 102,
     "metadata": {},
     "output_type": "execute_result"
    }
   ],
   "source": [
    "scipy.stats.gmean(twod)"
   ]
  },
  {
   "cell_type": "code",
   "execution_count": 103,
   "id": "7882d42a",
   "metadata": {},
   "outputs": [
    {
     "data": {
      "text/plain": [
       "array([1.        , 2.        , 6.6038545 , 5.94392195])"
      ]
     },
     "execution_count": 103,
     "metadata": {},
     "output_type": "execute_result"
    }
   ],
   "source": [
    "scipy.stats.gmean(twod, axis=1)"
   ]
  },
  {
   "cell_type": "code",
   "execution_count": 104,
   "id": "2a3d2764",
   "metadata": {},
   "outputs": [
    {
     "data": {
      "text/plain": [
       "DescribeResult(nobs=4, minmax=(array([1, 1, 1]), array([5, 8, 9])), mean=array([2.75, 4.25, 5.25]), variance=array([ 4.25      , 10.91666667, 12.25      ]), skewness=array([ 0.11531718,  0.13205603, -0.18515606]), kurtosis=array([-1.84775087, -1.71586737, -1.41302235]))"
      ]
     },
     "execution_count": 104,
     "metadata": {},
     "output_type": "execute_result"
    }
   ],
   "source": [
    "scipy.stats.describe(twod)"
   ]
  },
  {
   "cell_type": "code",
   "execution_count": 108,
   "id": "29d226fe",
   "metadata": {},
   "outputs": [
    {
     "data": {
      "text/html": [
       "<div>\n",
       "<style scoped>\n",
       "    .dataframe tbody tr th:only-of-type {\n",
       "        vertical-align: middle;\n",
       "    }\n",
       "\n",
       "    .dataframe tbody tr th {\n",
       "        vertical-align: top;\n",
       "    }\n",
       "\n",
       "    .dataframe thead th {\n",
       "        text-align: right;\n",
       "    }\n",
       "</style>\n",
       "<table border=\"1\" class=\"dataframe\">\n",
       "  <thead>\n",
       "    <tr style=\"text-align: right;\">\n",
       "      <th></th>\n",
       "      <th>a</th>\n",
       "      <th>b</th>\n",
       "      <th>c</th>\n",
       "    </tr>\n",
       "  </thead>\n",
       "  <tbody>\n",
       "    <tr>\n",
       "      <th>1</th>\n",
       "      <td>1</td>\n",
       "      <td>1</td>\n",
       "      <td>1</td>\n",
       "    </tr>\n",
       "    <tr>\n",
       "      <th>2</th>\n",
       "      <td>1</td>\n",
       "      <td>2</td>\n",
       "      <td>4</td>\n",
       "    </tr>\n",
       "    <tr>\n",
       "      <th>3</th>\n",
       "      <td>4</td>\n",
       "      <td>8</td>\n",
       "      <td>9</td>\n",
       "    </tr>\n",
       "    <tr>\n",
       "      <th>4</th>\n",
       "      <td>5</td>\n",
       "      <td>6</td>\n",
       "      <td>7</td>\n",
       "    </tr>\n",
       "  </tbody>\n",
       "</table>\n",
       "</div>"
      ],
      "text/plain": [
       "   a  b  c\n",
       "1  1  1  1\n",
       "2  1  2  4\n",
       "3  4  8  9\n",
       "4  5  6  7"
      ]
     },
     "execution_count": 108,
     "metadata": {},
     "output_type": "execute_result"
    }
   ],
   "source": [
    "# Dataframe\n",
    "row_names =[1,2,3,4]\n",
    "col_name = [\"a\",\"b\",\"c\"]\n",
    "\n",
    "df =pd.DataFrame(twod, index = row_names, columns= col_name)\n",
    "df"
   ]
  },
  {
   "cell_type": "code",
   "execution_count": 109,
   "id": "90be2e83",
   "metadata": {},
   "outputs": [
    {
     "data": {
      "text/plain": [
       "a    2.75\n",
       "b    4.25\n",
       "c    5.25\n",
       "dtype: float64"
      ]
     },
     "execution_count": 109,
     "metadata": {},
     "output_type": "execute_result"
    }
   ],
   "source": [
    "df.mean()"
   ]
  },
  {
   "cell_type": "code",
   "execution_count": 110,
   "id": "b3524f59",
   "metadata": {},
   "outputs": [
    {
     "data": {
      "text/plain": [
       "2.75"
      ]
     },
     "execution_count": 110,
     "metadata": {},
     "output_type": "execute_result"
    }
   ],
   "source": [
    "df[\"a\"].mean()"
   ]
  },
  {
   "cell_type": "code",
   "execution_count": 111,
   "id": "9e4b00ff",
   "metadata": {},
   "outputs": [
    {
     "data": {
      "text/plain": [
       "a    2.5\n",
       "b    4.0\n",
       "c    5.5\n",
       "dtype: float64"
      ]
     },
     "execution_count": 111,
     "metadata": {},
     "output_type": "execute_result"
    }
   ],
   "source": [
    "df.median()"
   ]
  },
  {
   "cell_type": "code",
   "execution_count": 113,
   "id": "8dc49da3",
   "metadata": {},
   "outputs": [
    {
     "data": {
      "text/plain": [
       "a     4.250000\n",
       "b    10.916667\n",
       "c    12.250000\n",
       "dtype: float64"
      ]
     },
     "execution_count": 113,
     "metadata": {},
     "output_type": "execute_result"
    }
   ],
   "source": [
    "df.var()"
   ]
  },
  {
   "cell_type": "code",
   "execution_count": 114,
   "id": "f73262dc",
   "metadata": {},
   "outputs": [
    {
     "data": {
      "text/plain": [
       "4.083333333333333"
      ]
     },
     "execution_count": 114,
     "metadata": {},
     "output_type": "execute_result"
    }
   ],
   "source": [
    "df.mean().mean()"
   ]
  },
  {
   "cell_type": "code",
   "execution_count": 115,
   "id": "ccee7424",
   "metadata": {},
   "outputs": [
    {
     "data": {
      "text/html": [
       "<div>\n",
       "<style scoped>\n",
       "    .dataframe tbody tr th:only-of-type {\n",
       "        vertical-align: middle;\n",
       "    }\n",
       "\n",
       "    .dataframe tbody tr th {\n",
       "        vertical-align: top;\n",
       "    }\n",
       "\n",
       "    .dataframe thead th {\n",
       "        text-align: right;\n",
       "    }\n",
       "</style>\n",
       "<table border=\"1\" class=\"dataframe\">\n",
       "  <thead>\n",
       "    <tr style=\"text-align: right;\">\n",
       "      <th></th>\n",
       "      <th>a</th>\n",
       "      <th>b</th>\n",
       "      <th>c</th>\n",
       "    </tr>\n",
       "  </thead>\n",
       "  <tbody>\n",
       "    <tr>\n",
       "      <th>count</th>\n",
       "      <td>4.000000</td>\n",
       "      <td>4.000000</td>\n",
       "      <td>4.00</td>\n",
       "    </tr>\n",
       "    <tr>\n",
       "      <th>mean</th>\n",
       "      <td>2.750000</td>\n",
       "      <td>4.250000</td>\n",
       "      <td>5.25</td>\n",
       "    </tr>\n",
       "    <tr>\n",
       "      <th>std</th>\n",
       "      <td>2.061553</td>\n",
       "      <td>3.304038</td>\n",
       "      <td>3.50</td>\n",
       "    </tr>\n",
       "    <tr>\n",
       "      <th>min</th>\n",
       "      <td>1.000000</td>\n",
       "      <td>1.000000</td>\n",
       "      <td>1.00</td>\n",
       "    </tr>\n",
       "    <tr>\n",
       "      <th>25%</th>\n",
       "      <td>1.000000</td>\n",
       "      <td>1.750000</td>\n",
       "      <td>3.25</td>\n",
       "    </tr>\n",
       "    <tr>\n",
       "      <th>50%</th>\n",
       "      <td>2.500000</td>\n",
       "      <td>4.000000</td>\n",
       "      <td>5.50</td>\n",
       "    </tr>\n",
       "    <tr>\n",
       "      <th>75%</th>\n",
       "      <td>4.250000</td>\n",
       "      <td>6.500000</td>\n",
       "      <td>7.50</td>\n",
       "    </tr>\n",
       "    <tr>\n",
       "      <th>max</th>\n",
       "      <td>5.000000</td>\n",
       "      <td>8.000000</td>\n",
       "      <td>9.00</td>\n",
       "    </tr>\n",
       "  </tbody>\n",
       "</table>\n",
       "</div>"
      ],
      "text/plain": [
       "              a         b     c\n",
       "count  4.000000  4.000000  4.00\n",
       "mean   2.750000  4.250000  5.25\n",
       "std    2.061553  3.304038  3.50\n",
       "min    1.000000  1.000000  1.00\n",
       "25%    1.000000  1.750000  3.25\n",
       "50%    2.500000  4.000000  5.50\n",
       "75%    4.250000  6.500000  7.50\n",
       "max    5.000000  8.000000  9.00"
      ]
     },
     "execution_count": 115,
     "metadata": {},
     "output_type": "execute_result"
    }
   ],
   "source": [
    "df.describe()"
   ]
  },
  {
   "cell_type": "code",
   "execution_count": null,
   "id": "8b974978",
   "metadata": {},
   "outputs": [],
   "source": []
  }
 ],
 "metadata": {
  "kernelspec": {
   "display_name": "Python 3",
   "language": "python",
   "name": "python3"
  },
  "language_info": {
   "codemirror_mode": {
    "name": "ipython",
    "version": 3
   },
   "file_extension": ".py",
   "mimetype": "text/x-python",
   "name": "python",
   "nbconvert_exporter": "python",
   "pygments_lexer": "ipython3",
   "version": "3.8.8"
  }
 },
 "nbformat": 4,
 "nbformat_minor": 5
}
