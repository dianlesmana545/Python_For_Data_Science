{
 "cells": [
  {
   "cell_type": "code",
   "execution_count": 9,
   "id": "ab23d7ec",
   "metadata": {},
   "outputs": [],
   "source": [
    "import numpy as np"
   ]
  },
  {
   "cell_type": "code",
   "execution_count": 7,
   "id": "db669c77",
   "metadata": {},
   "outputs": [
    {
     "name": "stdout",
     "output_type": "stream",
     "text": [
      "[1 2 3 4]\n"
     ]
    }
   ],
   "source": [
    "a=np.array([[1,2,3,4],[5,6,7,8],[9,10,11,12]])\n",
    "print(a[0])"
   ]
  },
  {
   "cell_type": "code",
   "execution_count": 9,
   "id": "793d235a",
   "metadata": {},
   "outputs": [
    {
     "data": {
      "text/plain": [
       "array([0., 0., 0., 0., 0., 0.])"
      ]
     },
     "execution_count": 9,
     "metadata": {},
     "output_type": "execute_result"
    }
   ],
   "source": [
    "np.zeros(6)"
   ]
  },
  {
   "cell_type": "code",
   "execution_count": 10,
   "id": "3015173e",
   "metadata": {},
   "outputs": [
    {
     "name": "stdout",
     "output_type": "stream",
     "text": [
      "[0 1 2 3]\n",
      "[1 3 5 7 9]\n"
     ]
    }
   ],
   "source": [
    "print(np.arange(4))\n",
    "print(np.arange(1,10,2))"
   ]
  },
  {
   "cell_type": "code",
   "execution_count": 10,
   "id": "98c4fc4f",
   "metadata": {},
   "outputs": [],
   "source": [
    "myArray=np.array([1,2,3,4,5,6])"
   ]
  },
  {
   "cell_type": "code",
   "execution_count": 6,
   "id": "e6dbbada",
   "metadata": {},
   "outputs": [],
   "source": [
    "multipleArray= myArray * 5"
   ]
  },
  {
   "cell_type": "code",
   "execution_count": 15,
   "id": "941a8bbd",
   "metadata": {},
   "outputs": [
    {
     "name": "stdout",
     "output_type": "stream",
     "text": [
      "[1, 2, 3, 4, 5, 6, 1, 2, 3, 4, 5, 6, 1, 2, 3, 4, 5, 6, 1, 2, 3, 4, 5, 6, 1, 2, 3, 4, 5, 6]\n"
     ]
    }
   ],
   "source": [
    "print(multipleArray)"
   ]
  },
  {
   "cell_type": "code",
   "execution_count": 17,
   "id": "98d89f2f",
   "metadata": {},
   "outputs": [],
   "source": [
    "myArray=np.array([1,2,3,4,5,6])"
   ]
  },
  {
   "cell_type": "code",
   "execution_count": 18,
   "id": "d976edcd",
   "metadata": {},
   "outputs": [],
   "source": [
    "kaliArray= myArray * 5"
   ]
  },
  {
   "cell_type": "code",
   "execution_count": 19,
   "id": "c079349b",
   "metadata": {},
   "outputs": [
    {
     "name": "stdout",
     "output_type": "stream",
     "text": [
      "[ 5 10 15 20 25 30]\n"
     ]
    }
   ],
   "source": [
    "print(kaliArray)"
   ]
  },
  {
   "cell_type": "code",
   "execution_count": 20,
   "id": "36ca032f",
   "metadata": {},
   "outputs": [
    {
     "name": "stdout",
     "output_type": "stream",
     "text": [
      "[0.2 0.4 0.6 0.8 1.  1.2]\n"
     ]
    }
   ],
   "source": [
    "bagiArray=myArray / 5\n",
    "print(bagiArray)"
   ]
  },
  {
   "cell_type": "code",
   "execution_count": 21,
   "id": "2eb8f8b1",
   "metadata": {},
   "outputs": [
    {
     "name": "stdout",
     "output_type": "stream",
     "text": [
      "[ 6  7  8  9 10 11]\n"
     ]
    }
   ],
   "source": [
    "tambahArray=myArray + 5\n",
    "print(tambahArray)"
   ]
  },
  {
   "cell_type": "code",
   "execution_count": 22,
   "id": "5e7390a5",
   "metadata": {},
   "outputs": [
    {
     "name": "stdout",
     "output_type": "stream",
     "text": [
      "[-4 -3 -2 -1  0  1]\n"
     ]
    }
   ],
   "source": [
    "kurangArray=myArray - 5\n",
    "print(kurangArray)"
   ]
  },
  {
   "cell_type": "code",
   "execution_count": 24,
   "id": "f98b2c64",
   "metadata": {},
   "outputs": [],
   "source": [
    "#boolean\n",
    "ismyMoreArraythan3 = myArray > 3"
   ]
  },
  {
   "cell_type": "code",
   "execution_count": 25,
   "id": "f48d46a9",
   "metadata": {},
   "outputs": [
    {
     "data": {
      "text/plain": [
       "array([False, False, False,  True,  True,  True])"
      ]
     },
     "execution_count": 25,
     "metadata": {},
     "output_type": "execute_result"
    }
   ],
   "source": [
    "ismyMoreArraythan3"
   ]
  },
  {
   "cell_type": "code",
   "execution_count": 27,
   "id": "888fd9c0",
   "metadata": {},
   "outputs": [
    {
     "data": {
      "text/plain": [
       "array([4, 5, 6])"
      ]
     },
     "execution_count": 27,
     "metadata": {},
     "output_type": "execute_result"
    }
   ],
   "source": [
    "#filtering\n",
    "valueArraythan3 = myArray[myArray > 3]\n",
    "valueArraythan3"
   ]
  },
  {
   "cell_type": "code",
   "execution_count": 33,
   "id": "77558047",
   "metadata": {},
   "outputs": [
    {
     "name": "stdout",
     "output_type": "stream",
     "text": [
      "[[ 1  2  3  4]\n",
      " [ 5  6  7  8]\n",
      " [ 9 10 11 12]]\n"
     ]
    }
   ],
   "source": [
    "#array 2D\n",
    "array2D = np.array([[1,2,3,4],[5,6,7,8],[9,10,11,12]])\n",
    "print(array2D)"
   ]
  },
  {
   "cell_type": "code",
   "execution_count": 34,
   "id": "a423ddfb",
   "metadata": {},
   "outputs": [
    {
     "name": "stdout",
     "output_type": "stream",
     "text": [
      "(3, 4)\n"
     ]
    }
   ],
   "source": [
    "print(array2D.shape)"
   ]
  },
  {
   "cell_type": "code",
   "execution_count": 37,
   "id": "4d8d8635",
   "metadata": {},
   "outputs": [
    {
     "name": "stdout",
     "output_type": "stream",
     "text": [
      "4\n",
      "4\n"
     ]
    }
   ],
   "source": [
    "print(array2D[0,3])\n",
    "print(array2D[0][3])"
   ]
  },
  {
   "cell_type": "code",
   "execution_count": 50,
   "id": "c0a6fe2d",
   "metadata": {},
   "outputs": [
    {
     "name": "stdout",
     "output_type": "stream",
     "text": [
      "[[ 2  3]\n",
      " [ 6  7]\n",
      " [10 11]]\n"
     ]
    }
   ],
   "source": [
    "print(array2D[:,1:3])"
   ]
  },
  {
   "cell_type": "code",
   "execution_count": 54,
   "id": "a9af51c8",
   "metadata": {},
   "outputs": [
    {
     "name": "stdout",
     "output_type": "stream",
     "text": [
      "[[10. 20. 30. 40.]\n",
      " [50. 60. 70. 80.]\n",
      " [90. 20. 80. 80.]\n",
      " [50. 70. 80. 60.]]\n"
     ]
    }
   ],
   "source": [
    "#import data from csv\n",
    "mystudentData=np.genfromtxt(\"./data.csv\",skip_header=1,delimiter=\",\",filling_values=40)\n",
    "print(mystudentData)"
   ]
  },
  {
   "cell_type": "code",
   "execution_count": 65,
   "id": "055185f3",
   "metadata": {},
   "outputs": [
    {
     "name": "stdout",
     "output_type": "stream",
     "text": [
      "90.0\n"
     ]
    }
   ],
   "source": [
    "maxInClass=np.amax(mystudentData,axis=0)\n",
    "print(maxInClass)"
   ]
  },
  {
   "cell_type": "code",
   "execution_count": 67,
   "id": "b21730e6",
   "metadata": {},
   "outputs": [
    {
     "data": {
      "text/plain": [
       "array([10., 20., 30., 40., 50., 60., 70., 80., 90., 20., 80., 80., 50.,\n",
       "       70., 80., 60.,  1.,  2.,  3.,  4.,  1.,  2.,  3.,  4.,  1.,  2.,\n",
       "        3.,  4.,  1.,  2.,  3.,  4.,  1.,  2.,  3.,  4.,  1.,  2.,  3.,\n",
       "        4.,  1.,  2.,  3.,  4.,  1.,  2.,  3.,  4.])"
      ]
     },
     "execution_count": 67,
     "metadata": {},
     "output_type": "execute_result"
    }
   ],
   "source": [
    "mystudentData=np.append(mystudentData,[1,2,3,4],axis=0)\n",
    "mystudentData"
   ]
  },
  {
   "cell_type": "code",
   "execution_count": 68,
   "id": "abd5d5f4",
   "metadata": {},
   "outputs": [
    {
     "name": "stdout",
     "output_type": "stream",
     "text": [
      "[[70. 75. 80. 30.]\n",
      " [75. 80. 90. 68.]\n",
      " [65. 77. 60. 90.]\n",
      " [40. 60. 55. 75.]]\n"
     ]
    }
   ],
   "source": [
    "DataUlangan=np.genfromtxt(\"./ulangan.csv\",skip_header=1,delimiter=\",\",filling_values=40)\n",
    "print(DataUlangan)"
   ]
  },
  {
   "cell_type": "code",
   "execution_count": 85,
   "id": "c542e92f",
   "metadata": {},
   "outputs": [
    {
     "name": "stdout",
     "output_type": "stream",
     "text": [
      "[250. 292. 285. 263.]\n"
     ]
    }
   ],
   "source": [
    "sumDataUlangan=np.sum(DataUlangan,axis=0)\n",
    "print(sumDataUlangan)"
   ]
  },
  {
   "cell_type": "code",
   "execution_count": 79,
   "id": "23404fc2",
   "metadata": {},
   "outputs": [
    {
     "data": {
      "text/plain": [
       "<function numpy.arange>"
      ]
     },
     "execution_count": 79,
     "metadata": {},
     "output_type": "execute_result"
    }
   ],
   "source": []
  },
  {
   "cell_type": "code",
   "execution_count": 82,
   "id": "a9a69f5f",
   "metadata": {},
   "outputs": [
    {
     "data": {
      "text/plain": [
       "array([[90.],\n",
       "       [75.]])"
      ]
     },
     "execution_count": 82,
     "metadata": {},
     "output_type": "execute_result"
    }
   ],
   "source": [
    "[y,x]=DataUlangan.shape\n",
    "y\n",
    "DataUlangan[2:y,3:x]"
   ]
  },
  {
   "cell_type": "code",
   "execution_count": 89,
   "id": "d8a88b06",
   "metadata": {},
   "outputs": [
    {
     "data": {
      "text/plain": [
       "array([[70., 75., 80., 30.],\n",
       "       [75., 80., 90., 68.],\n",
       "       [65., 77., 60., 90.],\n",
       "       [40., 60., 55., 75.]])"
      ]
     },
     "execution_count": 89,
     "metadata": {},
     "output_type": "execute_result"
    }
   ],
   "source": [
    "newData=np.delete(DataUlangan,[3],axis=0)\n",
    "DataUlangan"
   ]
  },
  {
   "cell_type": "code",
   "execution_count": 90,
   "id": "6ebfd3b2",
   "metadata": {},
   "outputs": [
    {
     "data": {
      "text/plain": [
       "array([[70., 75., 80., 30.],\n",
       "       [75., 80., 90., 68.],\n",
       "       [65., 77., 60., 90.],\n",
       "       [40., 60., 55., 75.]])"
      ]
     },
     "execution_count": 90,
     "metadata": {},
     "output_type": "execute_result"
    }
   ],
   "source": [
    "DataUlangan"
   ]
  },
  {
   "cell_type": "code",
   "execution_count": 91,
   "id": "032129ea",
   "metadata": {},
   "outputs": [
    {
     "data": {
      "text/plain": [
       "array([[70., 75., 80., 30.],\n",
       "       [75., 80., 90., 68.],\n",
       "       [65., 77., 60., 90.]])"
      ]
     },
     "execution_count": 91,
     "metadata": {},
     "output_type": "execute_result"
    }
   ],
   "source": [
    "newData"
   ]
  },
  {
   "cell_type": "code",
   "execution_count": null,
   "id": "21eab2f8",
   "metadata": {},
   "outputs": [],
   "source": [
    "ReshapeData=np.reshape(DataUlangan,)"
   ]
  },
  {
   "cell_type": "code",
   "execution_count": 93,
   "id": "dffece8d",
   "metadata": {},
   "outputs": [],
   "source": [
    "#1D to 2D\n",
    "oneDarray=[1,2,3,4,5,6,7,8,9,10]"
   ]
  },
  {
   "cell_type": "code",
   "execution_count": 95,
   "id": "b87d2774",
   "metadata": {},
   "outputs": [
    {
     "ename": "AttributeError",
     "evalue": "'list' object has no attribute 'reshape'",
     "output_type": "error",
     "traceback": [
      "\u001b[1;31m---------------------------------------------------------------------------\u001b[0m",
      "\u001b[1;31mAttributeError\u001b[0m                            Traceback (most recent call last)",
      "\u001b[1;32m<ipython-input-95-3ac1b2f1744b>\u001b[0m in \u001b[0;36m<module>\u001b[1;34m\u001b[0m\n\u001b[1;32m----> 1\u001b[1;33m \u001b[0mtwoDarray\u001b[0m\u001b[1;33m=\u001b[0m\u001b[0moneDarray\u001b[0m\u001b[1;33m.\u001b[0m\u001b[0mreshape\u001b[0m\u001b[1;33m(\u001b[0m\u001b[1;36m5\u001b[0m\u001b[1;33m,\u001b[0m\u001b[1;36m2\u001b[0m\u001b[1;33m)\u001b[0m\u001b[1;33m\u001b[0m\u001b[1;33m\u001b[0m\u001b[0m\n\u001b[0m",
      "\u001b[1;31mAttributeError\u001b[0m: 'list' object has no attribute 'reshape'"
     ]
    }
   ],
   "source": [
    "twoDarray=oneDarray.reshape(5,2)"
   ]
  },
  {
   "cell_type": "code",
   "execution_count": null,
   "id": "4c805756",
   "metadata": {},
   "outputs": [],
   "source": [
    "array_1=np.array([\n",
    "    [1,3,5]\n",
    "    [4,4,4]\n",
    "])\n",
    "array_2=np.array([\n",
    "    []\n",
    "])"
   ]
  }
 ],
 "metadata": {
  "kernelspec": {
   "display_name": "Python 3",
   "language": "python",
   "name": "python3"
  },
  "language_info": {
   "codemirror_mode": {
    "name": "ipython",
    "version": 3
   },
   "file_extension": ".py",
   "mimetype": "text/x-python",
   "name": "python",
   "nbconvert_exporter": "python",
   "pygments_lexer": "ipython3",
   "version": "3.8.8"
  }
 },
 "nbformat": 4,
 "nbformat_minor": 5
}
