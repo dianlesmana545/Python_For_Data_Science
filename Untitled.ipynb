{
 "cells": [
  {
   "cell_type": "code",
   "execution_count": 1,
   "id": "f6daa33d",
   "metadata": {},
   "outputs": [
    {
     "name": "stdout",
     "output_type": "stream",
     "text": [
      "Collecting pandas_profilingNote: you may need to restart the kernel to use updated packages.\n",
      "\n"
     ]
    },
    {
     "name": "stderr",
     "output_type": "stream",
     "text": [
      "ERROR: Could not install packages due to an OSError: [WinError 5] Access is denied: 'C:\\\\Users\\\\ACER\\\\anaconda3\\\\Lib\\\\site-packages\\\\~arkupsafe\\\\_speedups.cp38-win_amd64.pyd'\n",
      "Consider using the `--user` option or check the permissions.\n",
      "\n"
     ]
    },
    {
     "name": "stdout",
     "output_type": "stream",
     "text": [
      "  Downloading pandas_profiling-3.1.0-py2.py3-none-any.whl (261 kB)\n",
      "Collecting markupsafe~=2.0.1\n",
      "  Downloading MarkupSafe-2.0.1-cp38-cp38-win_amd64.whl (14 kB)\n",
      "Requirement already satisfied: pandas!=1.0.0,!=1.0.1,!=1.0.2,!=1.1.0,>=0.25.3 in c:\\users\\acer\\anaconda3\\lib\\site-packages (from pandas_profiling) (1.2.4)\n",
      "Requirement already satisfied: matplotlib>=3.2.0 in c:\\users\\acer\\anaconda3\\lib\\site-packages (from pandas_profiling) (3.3.4)\n",
      "Requirement already satisfied: numpy>=1.16.0 in c:\\users\\acer\\anaconda3\\lib\\site-packages (from pandas_profiling) (1.20.1)\n",
      "Collecting phik>=0.11.1\n",
      "  Downloading phik-0.12.0-cp38-cp38-win_amd64.whl (659 kB)\n",
      "Requirement already satisfied: scipy>=1.4.1 in c:\\users\\acer\\anaconda3\\lib\\site-packages (from pandas_profiling) (1.6.2)\n",
      "Collecting htmlmin>=0.1.12\n",
      "  Downloading htmlmin-0.1.12.tar.gz (19 kB)\n",
      "Collecting missingno>=0.4.2\n",
      "  Downloading missingno-0.5.0-py3-none-any.whl (8.8 kB)\n",
      "Requirement already satisfied: requests>=2.24.0 in c:\\users\\acer\\anaconda3\\lib\\site-packages (from pandas_profiling) (2.25.1)\n",
      "Requirement already satisfied: tqdm>=4.48.2 in c:\\users\\acer\\anaconda3\\lib\\site-packages (from pandas_profiling) (4.59.0)\n",
      "Requirement already satisfied: jinja2>=2.11.1 in c:\\users\\acer\\anaconda3\\lib\\site-packages (from pandas_profiling) (2.11.3)\n",
      "Collecting tangled-up-in-unicode==0.1.0\n",
      "  Downloading tangled_up_in_unicode-0.1.0-py3-none-any.whl (3.1 MB)\n",
      "Collecting pydantic>=1.8.1\n",
      "  Downloading pydantic-1.8.2-cp38-cp38-win_amd64.whl (2.0 MB)\n",
      "Collecting multimethod>=1.4\n",
      "  Downloading multimethod-1.6-py3-none-any.whl (9.4 kB)\n",
      "Requirement already satisfied: joblib~=1.0.1 in c:\\users\\acer\\anaconda3\\lib\\site-packages (from pandas_profiling) (1.0.1)\n",
      "Requirement already satisfied: seaborn>=0.10.1 in c:\\users\\acer\\anaconda3\\lib\\site-packages (from pandas_profiling) (0.11.1)\n",
      "Collecting visions[type_image_path]==0.7.4\n",
      "  Downloading visions-0.7.4-py3-none-any.whl (102 kB)\n",
      "Requirement already satisfied: PyYAML>=5.0.0 in c:\\users\\acer\\anaconda3\\lib\\site-packages (from pandas_profiling) (5.4.1)\n",
      "Requirement already satisfied: attrs>=19.3.0 in c:\\users\\acer\\anaconda3\\lib\\site-packages (from visions[type_image_path]==0.7.4->pandas_profiling) (20.3.0)\n",
      "Requirement already satisfied: networkx>=2.4 in c:\\users\\acer\\anaconda3\\lib\\site-packages (from visions[type_image_path]==0.7.4->pandas_profiling) (2.5)\n",
      "Collecting imagehash\n",
      "  Downloading ImageHash-4.2.1.tar.gz (812 kB)\n",
      "Requirement already satisfied: Pillow in c:\\users\\acer\\anaconda3\\lib\\site-packages (from visions[type_image_path]==0.7.4->pandas_profiling) (8.2.0)\n",
      "Requirement already satisfied: cycler>=0.10 in c:\\users\\acer\\anaconda3\\lib\\site-packages (from matplotlib>=3.2.0->pandas_profiling) (0.10.0)\n",
      "Requirement already satisfied: python-dateutil>=2.1 in c:\\users\\acer\\anaconda3\\lib\\site-packages (from matplotlib>=3.2.0->pandas_profiling) (2.8.1)\n",
      "Requirement already satisfied: kiwisolver>=1.0.1 in c:\\users\\acer\\anaconda3\\lib\\site-packages (from matplotlib>=3.2.0->pandas_profiling) (1.3.1)\n",
      "Requirement already satisfied: pyparsing!=2.0.4,!=2.1.2,!=2.1.6,>=2.0.3 in c:\\users\\acer\\anaconda3\\lib\\site-packages (from matplotlib>=3.2.0->pandas_profiling) (2.4.7)\n",
      "Requirement already satisfied: six in c:\\users\\acer\\appdata\\roaming\\python\\python38\\site-packages (from cycler>=0.10->matplotlib>=3.2.0->pandas_profiling) (1.15.0)\n",
      "Requirement already satisfied: decorator>=4.3.0 in c:\\users\\acer\\anaconda3\\lib\\site-packages (from networkx>=2.4->visions[type_image_path]==0.7.4->pandas_profiling) (5.0.6)\n",
      "Requirement already satisfied: pytz>=2017.3 in c:\\users\\acer\\anaconda3\\lib\\site-packages (from pandas!=1.0.0,!=1.0.1,!=1.0.2,!=1.1.0,>=0.25.3->pandas_profiling) (2021.1)\n",
      "Requirement already satisfied: typing-extensions>=3.7.4.3 in c:\\users\\acer\\anaconda3\\lib\\site-packages (from pydantic>=1.8.1->pandas_profiling) (3.7.4.3)\n",
      "Requirement already satisfied: urllib3<1.27,>=1.21.1 in c:\\users\\acer\\anaconda3\\lib\\site-packages (from requests>=2.24.0->pandas_profiling) (1.26.4)\n",
      "Requirement already satisfied: certifi>=2017.4.17 in c:\\users\\acer\\anaconda3\\lib\\site-packages (from requests>=2.24.0->pandas_profiling) (2020.12.5)\n",
      "Requirement already satisfied: chardet<5,>=3.0.2 in c:\\users\\acer\\anaconda3\\lib\\site-packages (from requests>=2.24.0->pandas_profiling) (4.0.0)\n",
      "Requirement already satisfied: idna<3,>=2.5 in c:\\users\\acer\\anaconda3\\lib\\site-packages (from requests>=2.24.0->pandas_profiling) (2.10)\n",
      "Requirement already satisfied: PyWavelets in c:\\users\\acer\\anaconda3\\lib\\site-packages (from imagehash->visions[type_image_path]==0.7.4->pandas_profiling) (1.1.1)\n",
      "Building wheels for collected packages: htmlmin, imagehash\n",
      "  Building wheel for htmlmin (setup.py): started\n",
      "  Building wheel for htmlmin (setup.py): finished with status 'done'\n",
      "  Created wheel for htmlmin: filename=htmlmin-0.1.12-py3-none-any.whl size=27085 sha256=cc3c32a28085cb8d5fcf758eb45db05557bf2633149fb2fcf4acef6404fb58b1\n",
      "  Stored in directory: c:\\users\\acer\\appdata\\local\\pip\\cache\\wheels\\23\\14\\6e\\4be5bfeeb027f4939a01764b48edd5996acf574b0913fe5243\n",
      "  Building wheel for imagehash (setup.py): started\n",
      "  Building wheel for imagehash (setup.py): finished with status 'done'\n",
      "  Created wheel for imagehash: filename=ImageHash-4.2.1-py2.py3-none-any.whl size=295198 sha256=cd32441618358f9c4ea5f24219e261185c4732626c7ce110f29b52b9b78998bf\n",
      "  Stored in directory: c:\\users\\acer\\appdata\\local\\pip\\cache\\wheels\\48\\a1\\7f\\096c1269d6bf78d4768180602579b35a1e8cb1250bb4b40c74\n",
      "Successfully built htmlmin imagehash\n",
      "Installing collected packages: tangled-up-in-unicode, multimethod, visions, markupsafe, imagehash, pydantic, phik, missingno, htmlmin, pandas-profiling\n",
      "  Attempting uninstall: markupsafe\n",
      "    Found existing installation: MarkupSafe 1.1.1\n",
      "    Uninstalling MarkupSafe-1.1.1:\n",
      "      Successfully uninstalled MarkupSafe-1.1.1\n"
     ]
    }
   ],
   "source": [
    "pip install pandas_profiling"
   ]
  },
  {
   "cell_type": "code",
   "execution_count": null,
   "id": "ac538140",
   "metadata": {},
   "outputs": [],
   "source": []
  }
 ],
 "metadata": {
  "kernelspec": {
   "display_name": "Python 3",
   "language": "python",
   "name": "python3"
  },
  "language_info": {
   "codemirror_mode": {
    "name": "ipython",
    "version": 3
   },
   "file_extension": ".py",
   "mimetype": "text/x-python",
   "name": "python",
   "nbconvert_exporter": "python",
   "pygments_lexer": "ipython3",
   "version": "3.8.8"
  }
 },
 "nbformat": 4,
 "nbformat_minor": 5
}
