{
 "cells": [
  {
   "cell_type": "code",
   "execution_count": 1,
   "id": "09f1a91f",
   "metadata": {},
   "outputs": [],
   "source": [
    "def add(*args):\n",
    "    res=0\n",
    "    for arg in args:\n",
    "        res+=arg\n",
    "    return res\n",
    "def multiply(*args):\n",
    "    res=1\n",
    "    for arg in args:\n",
    "        res=res*arg\n",
    "    return res\n",
    "    "
   ]
  },
  {
   "cell_type": "code",
   "execution_count": null,
   "id": "59459f70",
   "metadata": {},
   "outputs": [],
   "source": []
  }
 ],
 "metadata": {
  "kernelspec": {
   "display_name": "Python 3",
   "language": "python",
   "name": "python3"
  },
  "language_info": {
   "codemirror_mode": {
    "name": "ipython",
    "version": 3
   },
   "file_extension": ".py",
   "mimetype": "text/x-python",
   "name": "python",
   "nbconvert_exporter": "python",
   "pygments_lexer": "ipython3",
   "version": "3.8.8"
  }
 },
 "nbformat": 4,
 "nbformat_minor": 5
}
