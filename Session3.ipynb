{
 "cells": [
  {
   "cell_type": "code",
   "execution_count": 3,
   "id": "8f5679ef",
   "metadata": {},
   "outputs": [
    {
     "name": "stdout",
     "output_type": "stream",
     "text": [
      "I'm first call to user defined function!\n",
      "Again second call to the same function\n"
     ]
    }
   ],
   "source": [
    "def printme( str ):\n",
    "   \"This prints a passed string into this function\"\n",
    "   print(str)\n",
    "   return;\n",
    "\n",
    "# Now you can call printme function\n",
    "printme(\"I'm first call to user defined function!\")\n",
    "printme(\"Again second call to the same function\")"
   ]
  },
  {
   "cell_type": "code",
   "execution_count": 4,
   "id": "05926b5f",
   "metadata": {},
   "outputs": [
    {
     "name": "stdout",
     "output_type": "stream",
     "text": [
      "Values inside the function:  [10, 20, 30, [1, 2, 3, 4]]\n",
      "Values outside the function:  [10, 20, 30, [1, 2, 3, 4]]\n"
     ]
    }
   ],
   "source": [
    "def changeme( mylist ):\n",
    "   \"This changes a passed list into this function\"\n",
    "   mylist.append([1,2,3,4]);\n",
    "   print(\"Values inside the function: \", mylist)\n",
    "   return\n",
    "\n",
    "# Now you can call changeme function\n",
    "mylist = [10,20,30];\n",
    "changeme( mylist );\n",
    "print(\"Values outside the function: \", mylist)"
   ]
  },
  {
   "cell_type": "code",
   "execution_count": 4,
   "id": "98bb84a9",
   "metadata": {},
   "outputs": [],
   "source": [
    "def quadratNoReturn(num):\n",
    "    hasil=num * num\n",
    "\n",
    "def quadratReturn(num):\n",
    "    hasil=num * num\n",
    "    return hasil"
   ]
  },
  {
   "cell_type": "code",
   "execution_count": 6,
   "id": "681d10bc",
   "metadata": {},
   "outputs": [
    {
     "name": "stdout",
     "output_type": "stream",
     "text": [
      "None\n",
      "81\n"
     ]
    }
   ],
   "source": [
    "print(quadratNoReturn(9))\n",
    "print(quadratReturn(9))"
   ]
  },
  {
   "cell_type": "code",
   "execution_count": 9,
   "id": "d3f45e31",
   "metadata": {},
   "outputs": [
    {
     "name": "stdout",
     "output_type": "stream",
     "text": [
      "35\n"
     ]
    }
   ],
   "source": [
    "# f(x)= 10 + x*x\n",
    "def f(x):\n",
    "    return 10+x*x\n",
    "print(f(5))"
   ]
  },
  {
   "cell_type": "code",
   "execution_count": 40,
   "id": "a86a4295",
   "metadata": {},
   "outputs": [
    {
     "name": "stdout",
     "output_type": "stream",
     "text": [
      "please input number20\n",
      "you are adult\n",
      "lets drink\n"
     ]
    }
   ],
   "source": [
    "myage= 0\n",
    "adultTreshold = 18\n",
    "\n",
    "myage = input(\"please input number\")\n",
    "myage = int(myage)\n",
    "\n",
    "def MyAge(myage):\n",
    "    \n",
    "    if myage >= adultTreshold:\n",
    "        print(\"you are adult\")\n",
    "        print(\"lets drink\")\n",
    "    else:\n",
    "        yearsToaduld = adultTreshold - myage\n",
    "        print(\"you are under age lets wait {} more years \".format(yearsToaduld))\n",
    "    \n",
    "MyAge(myage)"
   ]
  },
  {
   "cell_type": "code",
   "execution_count": 47,
   "id": "6a1e419d",
   "metadata": {},
   "outputs": [
    {
     "name": "stdout",
     "output_type": "stream",
     "text": [
      "please input number a\n",
      "None\n"
     ]
    }
   ],
   "source": [
    "def canIDrink(myage):\n",
    "    if not myage.isnumeric():\n",
    "        return\n",
    "    \n",
    "    myage = int(myage)\n",
    "    if myage >= adultTreshold:\n",
    "        return \"you are adult \\n lets drink\"\n",
    "    else:\n",
    "        yearsToaduld = adultTreshold - myage\n",
    "        return(\"you are under age lets wait {} more years \".format(yearsToaduld))\n",
    "    \n",
    "myage= 0\n",
    "adultTreshold = 18\n",
    "myage = input(\"please input number \")\n",
    "print(canIDrink(myage))"
   ]
  },
  {
   "cell_type": "code",
   "execution_count": 49,
   "id": "e61a2672",
   "metadata": {},
   "outputs": [
    {
     "name": "stdout",
     "output_type": "stream",
     "text": [
      "Nama saya :  Dian\n",
      "Hobi saya :  coding\n"
     ]
    }
   ],
   "source": [
    "def printHello(nama,hobby):\n",
    "    print(\"Nama saya : \",nama)\n",
    "    print(\"Hobi saya : \",hobby)\n",
    "\n",
    "printHello(\"Dian\",\"coding\")\n",
    "    "
   ]
  },
  {
   "cell_type": "code",
   "execution_count": 51,
   "id": "5d8717d4",
   "metadata": {},
   "outputs": [
    {
     "data": {
      "text/plain": [
       "13"
      ]
     },
     "execution_count": 51,
     "metadata": {},
     "output_type": "execute_result"
    }
   ],
   "source": [
    "def tambah(a, b, *res):\n",
    "    hasil = a+b\n",
    "    for i in res :\n",
    "        hasil +=i\n",
    "    return hasil\n",
    "tambah(1,3,4,5)"
   ]
  },
  {
   "cell_type": "code",
   "execution_count": 52,
   "id": "0fcbb976",
   "metadata": {},
   "outputs": [
    {
     "name": "stdout",
     "output_type": "stream",
     "text": [
      "Global Var\n"
     ]
    },
    {
     "data": {
      "text/plain": [
       "4"
      ]
     },
     "execution_count": 52,
     "metadata": {},
     "output_type": "execute_result"
    }
   ],
   "source": [
    "globalVar=\"Global Var\"\n",
    "def tambah(a, b, *res):\n",
    "    print(globalVar)\n",
    "    hasil = a+b\n",
    "    for i in res :\n",
    "        hasil +=i\n",
    "    return hasil\n",
    "tambah(1,3)"
   ]
  },
  {
   "cell_type": "code",
   "execution_count": 79,
   "id": "203f5473",
   "metadata": {},
   "outputs": [
    {
     "name": "stdout",
     "output_type": "stream",
     "text": [
      "20\n",
      "24\n",
      "39\n"
     ]
    }
   ],
   "source": [
    "def penambahan(a,b,*res):\n",
    "    hasil = a+b\n",
    "    for i in res:\n",
    "        hasil+=i\n",
    "    return hasil\n",
    "\n",
    "def perkalian(a,b,*res):\n",
    "    hasil2 = a*b\n",
    "    for i in res:\n",
    "        hasil2=hasil2*i\n",
    "    return hasil2\n",
    "\n",
    "def f(x,y,z):\n",
    "    hasil3=10*x + y**2 + z*5\n",
    "    return hasil3\n",
    "\n",
    "print(penambahan(2,3,4,5,6))\n",
    "print(perkalian(1,2,3,4))\n",
    "print(f(2,2,3))"
   ]
  },
  {
   "cell_type": "code",
   "execution_count": 83,
   "id": "0a299987",
   "metadata": {},
   "outputs": [
    {
     "name": "stdout",
     "output_type": "stream",
     "text": [
      "10\n"
     ]
    }
   ],
   "source": [
    "import Calculator\n",
    "print(Calculator.add(10,3))"
   ]
  }
 ],
 "metadata": {
  "kernelspec": {
   "display_name": "Python 3",
   "language": "python",
   "name": "python3"
  },
  "language_info": {
   "codemirror_mode": {
    "name": "ipython",
    "version": 3
   },
   "file_extension": ".py",
   "mimetype": "text/x-python",
   "name": "python",
   "nbconvert_exporter": "python",
   "pygments_lexer": "ipython3",
   "version": "3.8.8"
  }
 },
 "nbformat": 4,
 "nbformat_minor": 5
}
