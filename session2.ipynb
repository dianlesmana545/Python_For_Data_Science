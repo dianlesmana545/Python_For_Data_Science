{
 "cells": [
  {
   "cell_type": "code",
   "execution_count": null,
   "id": "2310ce13",
   "metadata": {},
   "outputs": [],
   "source": [
    "x=10\n",
    "y=15\n",
    "if x<y :\n",
    "    print(\"Yes\")"
   ]
  },
  {
   "cell_type": "code",
   "execution_count": 1,
   "id": "b89e5498",
   "metadata": {},
   "outputs": [
    {
     "name": "stdout",
     "output_type": "stream",
     "text": [
      "False\n"
     ]
    }
   ],
   "source": [
    "#integer falsy 0\n",
    "#string falsy \"\"\n",
    "#list falsy[]\n",
    "#dictionary falsy{}\n",
    "print(bool([]))"
   ]
  },
  {
   "cell_type": "markdown",
   "id": "d5cef2e8",
   "metadata": {},
   "source": [
    "myAge=0\n",
    "adultTreshold=18\n",
    "\n",
    "if myAge >= adulTreshold :\n",
    "print(\"you are adult\")"
   ]
  },
  {
   "cell_type": "code",
   "execution_count": 5,
   "id": "91119d28",
   "metadata": {},
   "outputs": [
    {
     "name": "stdout",
     "output_type": "stream",
     "text": [
      "Masukan umur20\n",
      "You are treshhold\n"
     ]
    }
   ],
   "source": [
    "myAge=input(\"Masukan umur\")\n",
    "myAge=int(myAge)\n",
    "adultTreshold=18\n",
    "if myAge >= adultTreshold :\n",
    "    print(\"You are treshhold\")"
   ]
  },
  {
   "cell_type": "code",
   "execution_count": 3,
   "id": "cdaf2e2f",
   "metadata": {},
   "outputs": [
    {
     "name": "stdout",
     "output_type": "stream",
     "text": [
      "After conditional\n"
     ]
    }
   ],
   "source": [
    "if 'foo' in ['bar', 'baz', 'qux']:\n",
    "    print('Expression was true')\n",
    "    print('Executing statement in suite')\n",
    "    print('...')\n",
    "    print('Done.')\n",
    "    \n",
    "print('After conditional')"
   ]
  },
  {
   "cell_type": "code",
   "execution_count": 2,
   "id": "323c1271",
   "metadata": {},
   "outputs": [
    {
     "name": "stdout",
     "output_type": "stream",
     "text": [
      "(first suite)\n",
      "x is small\n"
     ]
    }
   ],
   "source": [
    "x = 20\n",
    "\n",
    "if x < 50:\n",
    "    print('(first suite)')\n",
    "    print('x is small')\n",
    "else:\n",
    "    print('(second suite)')\n",
    "    print('x is large')"
   ]
  },
  {
   "cell_type": "code",
   "execution_count": 3,
   "id": "e93f84de",
   "metadata": {},
   "outputs": [
    {
     "name": "stdout",
     "output_type": "stream",
     "text": [
      "uang tidak cukup\n"
     ]
    }
   ],
   "source": [
    "hargaBuku = 20000\n",
    "hargaMajalah = 5000\n",
    "uang = 2000\n",
    "\n",
    "if uang > hargaBuku:\n",
    "    print(\"beli buku\")\n",
    "elif uang > hargaMajalah:\n",
    "    print(\"beli majalah\")\n",
    "else:\n",
    "    print(\"uang tidak cukup\")"
   ]
  },
  {
   "cell_type": "code",
   "execution_count": 4,
   "id": "a1de52ec",
   "metadata": {},
   "outputs": [
    {
     "name": "stdout",
     "output_type": "stream",
     "text": [
      "1\n",
      "2\n",
      "3\n",
      "4\n",
      "5\n"
     ]
    }
   ],
   "source": [
    "i = 1\n",
    "while i < 6:\n",
    "  print(i)\n",
    "  i += 1"
   ]
  },
  {
   "cell_type": "code",
   "execution_count": 14,
   "id": "cbf32660",
   "metadata": {},
   "outputs": [
    {
     "name": "stdout",
     "output_type": "stream",
     "text": [
      "Masukan nilai = 80\n",
      "Nilai huruf B\n"
     ]
    }
   ],
   "source": [
    "nilai=int(input(\"Masukan nilai = \"))\n",
    "if(nilai > 90) :\n",
    "    print(\"Nilai huruf A\")\n",
    "elif nilai <= 90 and nilai > 70 :\n",
    "    print(\"Nilai huruf B\")"
   ]
  },
  {
   "cell_type": "code",
   "execution_count": null,
   "id": "d024ba0b",
   "metadata": {},
   "outputs": [],
   "source": [
    "nilaiStr=\"\"\n",
    "while True :\n",
    "nilaiStr=input(\"Masukan nilai\")\n",
    "    if not nilaiStr.isNumeric(): break;"
   ]
  },
  {
   "cell_type": "code",
   "execution_count": 29,
   "id": "83ad331c",
   "metadata": {},
   "outputs": [
    {
     "name": "stdout",
     "output_type": "stream",
     "text": [
      "Masukan nomor3\n",
      "Jumlah =  2\n"
     ]
    }
   ],
   "source": [
    "jumlah=0\n",
    "nomor=int(input(\"Masukan nomor\"))\n",
    "\n",
    "while nomor>0 :\n",
    "    if nomor%2 == 0 :\n",
    "        jumlah = jumlah+nomor\n",
    "    nomor -=1\n",
    "    \n",
    "print(\"Jumlah = \",jumlah)\n"
   ]
  },
  {
   "cell_type": "code",
   "execution_count": null,
   "id": "66e927b4",
   "metadata": {},
   "outputs": [],
   "source": [
    "from random import random\n",
    "randomBilangan=random.randint(0,10)\n",
    "isUserCorrect = false\n",
    "while not isUserCorrect :\n",
    "    print(randomBilangan)\n",
    "    nilaiStr=input(\"Masukan bilangan 1sampai 10\")\n",
    "    if not nilaiStr.isNumeric; break;\n",
    "    isUserCorrect = int(nilaiStr)==randomBilangan\n",
    "else :\n",
    "    print(\"Anda benar\")\n",
    "    "
   ]
  },
  {
   "cell_type": "code",
   "execution_count": 47,
   "id": "4067a3e6",
   "metadata": {},
   "outputs": [
    {
     "ename": "TypeError",
     "evalue": "'str' object is not callable",
     "output_type": "error",
     "traceback": [
      "\u001b[1;31m---------------------------------------------------------------------------\u001b[0m",
      "\u001b[1;31mTypeError\u001b[0m                                 Traceback (most recent call last)",
      "\u001b[1;32m<ipython-input-47-15408a6888a4>\u001b[0m in \u001b[0;36m<module>\u001b[1;34m\u001b[0m\n\u001b[0;32m      7\u001b[0m     \u001b[0mj\u001b[0m\u001b[1;33m=\u001b[0m\u001b[1;36m0\u001b[0m\u001b[1;33m\u001b[0m\u001b[1;33m\u001b[0m\u001b[0m\n\u001b[0;32m      8\u001b[0m     \u001b[1;32mwhile\u001b[0m \u001b[0mj\u001b[0m \u001b[1;33m<\u001b[0m \u001b[0mcol\u001b[0m \u001b[1;33m:\u001b[0m\u001b[1;33m\u001b[0m\u001b[1;33m\u001b[0m\u001b[0m\n\u001b[1;32m----> 9\u001b[1;33m         \u001b[0mdisp\u001b[0m\u001b[1;33m=\u001b[0m \u001b[0mdisp\u001b[0m \u001b[1;33m+\u001b[0m \u001b[0mstr\u001b[0m\u001b[1;33m(\u001b[0m\u001b[0mi\u001b[0m\u001b[1;33m)\u001b[0m\u001b[1;33m+\u001b[0m \u001b[1;34m\",\"\u001b[0m \u001b[1;33m+\u001b[0m \u001b[0mstr\u001b[0m\u001b[1;33m(\u001b[0m\u001b[0mj\u001b[0m\u001b[1;33m)\u001b[0m \u001b[1;33m+\u001b[0m \u001b[1;34m\" \"\u001b[0m\u001b[1;33m\u001b[0m\u001b[1;33m\u001b[0m\u001b[0m\n\u001b[0m\u001b[0;32m     10\u001b[0m         \u001b[0mj\u001b[0m\u001b[1;33m+=\u001b[0m\u001b[1;36m1\u001b[0m\u001b[1;33m\u001b[0m\u001b[1;33m\u001b[0m\u001b[0m\n\u001b[0;32m     11\u001b[0m     \u001b[0mdisp\u001b[0m\u001b[1;33m+=\u001b[0m\u001b[1;34m\"\\n\"\u001b[0m\u001b[1;33m\u001b[0m\u001b[1;33m\u001b[0m\u001b[0m\n",
      "\u001b[1;31mTypeError\u001b[0m: 'str' object is not callable"
     ]
    }
   ],
   "source": [
    "row=3\n",
    "col=3\n",
    "i = 0\n",
    "disp=\"\"\n",
    "\n",
    "while i < row :\n",
    "    j=0\n",
    "    while j < col :\n",
    "        disp= disp + str(i)+ \",\" + str(j) + \" \"\n",
    "        j+=1\n",
    "    disp+=\"\\n\"\n",
    "    i=i+1\n",
    "print(disp)"
   ]
  },
  {
   "cell_type": "code",
   "execution_count": 48,
   "id": "fb2f7927",
   "metadata": {},
   "outputs": [
    {
     "name": "stdout",
     "output_type": "stream",
     "text": [
      " * \n",
      " *  * \n",
      " *  *  * \n",
      " *  *  *  * \n",
      " *  *  *  *  * \n",
      "\n"
     ]
    }
   ],
   "source": [
    "str=\"\"\n",
    "i=1\n",
    "while i <= 5 :\n",
    "    j=i\n",
    "    while j >0 :\n",
    "        str=str + \" * \"\n",
    "        j=j-1\n",
    "    str=str + \"\\n\"\n",
    "    i=i+1\n",
    "print(str)\n",
    " "
   ]
  },
  {
   "cell_type": "code",
   "execution_count": 51,
   "id": "d67f14e9",
   "metadata": {},
   "outputs": [
    {
     "name": "stdout",
     "output_type": "stream",
     "text": [
      "nama Dian\n",
      "Umur 29\n",
      "Pekerjaan Mahasiswa\n"
     ]
    }
   ],
   "source": [
    "myDict={'nama':\"Dian\",\"Umur\":29,'Pekerjaan':\"Mahasiswa\"}\n",
    "for key in myDict :\n",
    "    print(key, myDict[key])"
   ]
  },
  {
   "cell_type": "code",
   "execution_count": 64,
   "id": "b06943d7",
   "metadata": {},
   "outputs": [
    {
     "name": "stdout",
     "output_type": "stream",
     "text": [
      "Masukan namaDian\n",
      "{'Nama': 'Dian', 'Umur': '', 'Pekerjaan': '', 'hobbies': ''}\n"
     ]
    }
   ],
   "source": [
    "MyDict={'Nama':\"\",'Umur':\"\",'Pekerjaan':\"\",'hobbies':\"\"}\n",
    "for key in MyDict :\n",
    "    userInput=input(\"Masukan {} jika sudah masukkan stop\".format(key))\n",
    "    "
   ]
  },
  {
   "cell_type": "code",
   "execution_count": null,
   "id": "c3605e54",
   "metadata": {},
   "outputs": [],
   "source": []
  },
  {
   "cell_type": "code",
   "execution_count": null,
   "id": "f7fa8dae",
   "metadata": {},
   "outputs": [],
   "source": []
  },
  {
   "cell_type": "code",
   "execution_count": null,
   "id": "38930f2e",
   "metadata": {},
   "outputs": [],
   "source": []
  }
 ],
 "metadata": {
  "kernelspec": {
   "display_name": "Python 3",
   "language": "python",
   "name": "python3"
  },
  "language_info": {
   "codemirror_mode": {
    "name": "ipython",
    "version": 3
   },
   "file_extension": ".py",
   "mimetype": "text/x-python",
   "name": "python",
   "nbconvert_exporter": "python",
   "pygments_lexer": "ipython3",
   "version": "3.8.8"
  }
 },
 "nbformat": 4,
 "nbformat_minor": 5
}
